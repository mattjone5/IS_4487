{
  "nbformat": 4,
  "nbformat_minor": 0,
  "metadata": {
    "colab": {
      "provenance": [],
      "mount_file_id": "1STi9L4BqNiFoKmHjDrx4WEiYekJ446bB",
      "authorship_tag": "ABX9TyOELQ0etQu2inLax3P1cAvg",
      "include_colab_link": true
    },
    "kernelspec": {
      "name": "python3",
      "display_name": "Python 3"
    },
    "language_info": {
      "name": "python"
    }
  },
  "cells": [
    {
      "cell_type": "markdown",
      "metadata": {
        "id": "view-in-github",
        "colab_type": "text"
      },
      "source": [
        "<a href=\"https://colab.research.google.com/github/mattjone5/IS_4487/blob/main/JonesLab9.ipynb\" target=\"_parent\"><img src=\"https://colab.research.google.com/assets/colab-badge.svg\" alt=\"Open In Colab\"/></a>"
      ]
    },
    {
      "cell_type": "code",
      "execution_count": 40,
      "metadata": {
        "colab": {
          "base_uri": "https://localhost:8080/"
        },
        "id": "TfYCFLdxRV-m",
        "outputId": "eaef9ef5-b0d9-4ff5-c503-8dbed8b8e704"
      },
      "outputs": [
        {
          "output_type": "stream",
          "name": "stdout",
          "text": [
            "Mounted at /content/gdrive\n"
          ]
        },
        {
          "output_type": "stream",
          "name": "stderr",
          "text": [
            "<ipython-input-40-7480e45b37b7>:10: SettingWithCopyWarning: \n",
            "A value is trying to be set on a copy of a slice from a DataFrame.\n",
            "Try using .loc[row_indexer,col_indexer] = value instead\n",
            "\n",
            "See the caveats in the documentation: https://pandas.pydata.org/pandas-docs/stable/user_guide/indexing.html#returning-a-view-versus-a-copy\n",
            "  df2[\"Income_Level\"] = df[\"income\"]\n",
            "<ipython-input-40-7480e45b37b7>:11: SettingWithCopyWarning: \n",
            "A value is trying to be set on a copy of a slice from a DataFrame.\n",
            "Try using .loc[row_indexer,col_indexer] = value instead\n",
            "\n",
            "See the caveats in the documentation: https://pandas.pydata.org/pandas-docs/stable/user_guide/indexing.html#returning-a-view-versus-a-copy\n",
            "  df2[\"Income_Level\"] = np.where(df2[\"Income_Level\"].between(0,25000), 1, df2['Income_Level'])\n",
            "<ipython-input-40-7480e45b37b7>:12: SettingWithCopyWarning: \n",
            "A value is trying to be set on a copy of a slice from a DataFrame.\n",
            "Try using .loc[row_indexer,col_indexer] = value instead\n",
            "\n",
            "See the caveats in the documentation: https://pandas.pydata.org/pandas-docs/stable/user_guide/indexing.html#returning-a-view-versus-a-copy\n",
            "  df2[\"Income_Level\"] = np.where(df2[\"Income_Level\"].between(25001,50000), 2, df2['Income_Level'])\n",
            "<ipython-input-40-7480e45b37b7>:13: SettingWithCopyWarning: \n",
            "A value is trying to be set on a copy of a slice from a DataFrame.\n",
            "Try using .loc[row_indexer,col_indexer] = value instead\n",
            "\n",
            "See the caveats in the documentation: https://pandas.pydata.org/pandas-docs/stable/user_guide/indexing.html#returning-a-view-versus-a-copy\n",
            "  df2[\"Income_Level\"] = np.where(df2[\"Income_Level\"].between(50001,75000), 3, df2['Income_Level'])\n",
            "<ipython-input-40-7480e45b37b7>:14: SettingWithCopyWarning: \n",
            "A value is trying to be set on a copy of a slice from a DataFrame.\n",
            "Try using .loc[row_indexer,col_indexer] = value instead\n",
            "\n",
            "See the caveats in the documentation: https://pandas.pydata.org/pandas-docs/stable/user_guide/indexing.html#returning-a-view-versus-a-copy\n",
            "  df2[\"Income_Level\"] = np.where(df2[\"Income_Level\"] > 75001, 4, df2[\"Income_Level\"])\n",
            "<ipython-input-40-7480e45b37b7>:16: SettingWithCopyWarning: \n",
            "A value is trying to be set on a copy of a slice from a DataFrame.\n",
            "Try using .loc[row_indexer,col_indexer] = value instead\n",
            "\n",
            "See the caveats in the documentation: https://pandas.pydata.org/pandas-docs/stable/user_guide/indexing.html#returning-a-view-versus-a-copy\n",
            "  df2[\"Satisfaction_Level\"] = df2[\"reported_satisfaction\"].astype(\"category\")\n"
          ]
        }
      ],
      "source": [
        "import pandas as pd\n",
        "import matplotlib as mpl\n",
        "import numpy as np\n",
        "\n",
        "from google.colab import drive \n",
        "drive.mount('/content/gdrive', force_remount=True)\n",
        "df = pd.read_csv (r'/content/gdrive/MyDrive/Colab Notebooks/megatelco.csv')\n",
        "df2 = df[df[\"income\"] >= 0]  \n",
        "\n",
        "df2[\"Income_Level\"] = df[\"income\"]\n",
        "df2[\"Income_Level\"] = np.where(df2[\"Income_Level\"].between(0,25000), 1, df2['Income_Level'])\n",
        "df2[\"Income_Level\"] = np.where(df2[\"Income_Level\"].between(25001,50000), 2, df2['Income_Level'])\n",
        "df2[\"Income_Level\"] = np.where(df2[\"Income_Level\"].between(50001,75000), 3, df2['Income_Level'])\n",
        "df2[\"Income_Level\"] = np.where(df2[\"Income_Level\"] > 75001, 4, df2[\"Income_Level\"])\n",
        "\n",
        "df2[\"Satisfaction_Level\"] = df2[\"reported_satisfaction\"].astype(\"category\")\n",
        "\n",
        "\n"
      ]
    },
    {
      "cell_type": "code",
      "source": [
        "df2.plot(y=\"income\", x=\"reported_satisfaction\", kind=\"bar\")"
      ],
      "metadata": {
        "colab": {
          "base_uri": "https://localhost:8080/",
          "height": 309
        },
        "id": "3fxrfOAPb9_Z",
        "outputId": "fcf57e7b-f120-4265-bb38-2175dd5a56c6"
      },
      "execution_count": 49,
      "outputs": [
        {
          "output_type": "execute_result",
          "data": {
            "text/plain": [
              "<AxesSubplot:xlabel='reported_satisfaction'>"
            ]
          },
          "metadata": {},
          "execution_count": 49
        },
        {
          "output_type": "display_data",
          "data": {
            "text/plain": [
              "<Figure size 432x288 with 1 Axes>"
            ],
            "image/png": "[encoded data removed]"
          },
          "metadata": {
            "needs_background": "light"
          }
        }
      ]
    },
    {
      "cell_type": "code",
      "source": [
        "df2[\"Income_Level\"].value_counts().sort_values().plot(kind='bar')"
      ],
      "metadata": {
        "colab": {
          "base_uri": "https://localhost:8080/",
          "height": 279
        },
        "id": "48Ll2fysa34r",
        "outputId": "2480f9f6-7854-45ea-d7ff-311dab3ff105"
      },
      "execution_count": 39,
      "outputs": [
        {
          "output_type": "execute_result",
          "data": {
            "text/plain": [
              "<AxesSubplot:>"
            ]
          },
          "metadata": {},
          "execution_count": 39
        },
        {
          "output_type": "display_data",
          "data": {
            "text/plain": [
              "<Figure size 432x288 with 1 Axes>"
            ],
            "image/png": "[encoded data removed]"
          },
          "metadata": {
            "needs_background": "light"
          }
        }
      ]
    },
    {
      "cell_type": "code",
      "source": [
        "s = df2[\"leave\"].value_counts()\n",
        "s.plot(kind=\"pie\")"
      ],
      "metadata": {
        "colab": {
          "base_uri": "https://localhost:8080/",
          "height": 265
        },
        "id": "V1AV-fzWbBoG",
        "outputId": "f7294595-db68-46be-a099-ff7622e2ea6b"
      },
      "execution_count": 42,
      "outputs": [
        {
          "output_type": "execute_result",
          "data": {
            "text/plain": [
              "<AxesSubplot:ylabel='leave'>"
            ]
          },
          "metadata": {},
          "execution_count": 42
        },
        {
          "output_type": "display_data",
          "data": {
            "text/plain": [
              "<Figure size 432x288 with 1 Axes>"
            ],
            "image/png": "[encoded data removed]"
          },
          "metadata": {}
        }
      ]
    },
    {
      "cell_type": "code",
      "source": [
        "df2[\"Satisfaction_Level\"].value_counts().sort_values().plot(kind='bar')"
      ],
      "metadata": {
        "colab": {
          "base_uri": "https://localhost:8080/",
          "height": 294
        },
        "id": "gUjtIhIaa7Az",
        "outputId": "999c1902-def1-4f74-db9d-99818dc2d791"
      },
      "execution_count": 38,
      "outputs": [
        {
          "output_type": "execute_result",
          "data": {
            "text/plain": [
              "<AxesSubplot:>"
            ]
          },
          "metadata": {},
          "execution_count": 38
        },
        {
          "output_type": "display_data",
          "data": {
            "text/plain": [
              "<Figure size 432x288 with 1 Axes>"
            ],
            "image/png": "[encoded data removed]"
          },
          "metadata": {
            "needs_background": "light"
          }
        }
      ]
    }
  ]
}