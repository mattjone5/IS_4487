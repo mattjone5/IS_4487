{
  "nbformat": 4,
  "nbformat_minor": 0,
  "metadata": {
    "colab": {
      "provenance": [],
      "authorship_tag": "ABX9TyPYifSFXdKgPKD/E+pSohYJ",
      "include_colab_link": true
    },
    "kernelspec": {
      "name": "python3",
      "display_name": "Python 3"
    },
    "language_info": {
      "name": "python"
    }
  },
  "cells": [
    {
      "cell_type": "markdown",
      "metadata": {
        "id": "view-in-github",
        "colab_type": "text"
      },
      "source": [
        "<a href=\"https://colab.research.google.com/github/mattjone5/IS_4487/blob/main/Week9Assignment.ipynb\" target=\"_parent\"><img src=\"https://colab.research.google.com/assets/colab-badge.svg\" alt=\"Open In Colab\"/></a>"
      ]
    },
    {
      "cell_type": "code",
      "execution_count": 53,
      "metadata": {
        "colab": {
          "base_uri": "https://localhost:8080/",
          "height": 328
        },
        "id": "CNFlJOKVIY6Q",
        "outputId": "0891450f-047a-4209-ebcb-433892bb5dab"
      },
      "outputs": [
        {
          "output_type": "stream",
          "name": "stdout",
          "text": [
            "Mounted at /content/gdrive\n"
          ]
        },
        {
          "output_type": "execute_result",
          "data": {
            "text/plain": [
              "array([<AxesSubplot:title={'center':'no'}>,\n",
              "       <AxesSubplot:title={'center':'yes'}>], dtype=object)"
            ]
          },
          "metadata": {},
          "execution_count": 53
        },
        {
          "output_type": "display_data",
          "data": {
            "text/plain": [
              "<Figure size 432x288 with 2 Axes>"
            ],
            "image/png": "[encoded data removed]"
          },
          "metadata": {
            "needs_background": "light"
          }
        }
      ],
      "source": [
        "import pandas as pd\n",
        "from matplotlib import pyplot as plt\n",
        "import numpy as np\n",
        "\n",
        "from google.colab import drive \n",
        "drive.mount('/content/gdrive', force_remount=True)\n",
        "df = pd.read_csv (r'/content/gdrive/MyDrive/Colab Notebooks/adviseinvest.csv')\n",
        "\n",
        "df = df[df.num_accts < 10]\n",
        "\n",
        "df.loc[df[\"answered\"] == 0, \"answered\"] = \"no\"\n",
        "df.loc[df[\"answered\"] == 1, \"answered\"] = \"yes\"\n",
        "\n",
        "# Plot of answered and num_accts\n",
        "df['num_accts'].hist(by=df['answered'])"
      ]
    },
    {
      "cell_type": "code",
      "source": [
        "df['mobile'] = df['mobile'].astype(\"category\")\n",
        "ax = df.groupby('mobile')[\"answered\"].count().plot.bar(title=\"Mobile by Count of Answered calls\")\n",
        "ax.set_xlabel(\"Mobile\")\n",
        "ax.set_ylabel(\"Count of Answered\")\n",
        "ax.plot()\n",
        "# The average for mobile was 0.091109 so thats why its so low"
      ],
      "metadata": {
        "colab": {
          "base_uri": "https://localhost:8080/",
          "height": 309
        },
        "id": "Ql76ZFihdiQm",
        "outputId": "3dc12e8a-a5f6-4c1a-d400-a88d7af4d39a"
      },
      "execution_count": 60,
      "outputs": [
        {
          "output_type": "execute_result",
          "data": {
            "text/plain": [
              "[]"
            ]
          },
          "metadata": {},
          "execution_count": 60
        },
        {
          "output_type": "display_data",
          "data": {
            "text/plain": [
              "<Figure size 432x288 with 1 Axes>"
            ],
            "image/png": "[encoded data removed]"
          },
          "metadata": {
            "needs_background": "light"
          }
        }
      ]
    }
  ]
}