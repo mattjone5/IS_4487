{
  "nbformat": 4,
  "nbformat_minor": 0,
  "metadata": {
    "colab": {
      "provenance": [],
      "authorship_tag": "ABX9TyPniASpyT+/wq0fjqUOdyP1",
      "include_colab_link": true
    },
    "kernelspec": {
      "name": "python3",
      "display_name": "Python 3"
    },
    "language_info": {
      "name": "python"
    }
  },
  "cells": [
    {
      "cell_type": "markdown",
      "metadata": {
        "id": "view-in-github",
        "colab_type": "text"
      },
      "source": [
        "<a href=\"https://colab.research.google.com/github/mattjone5/IS_4487/blob/main/Week8Assignment.ipynb\" target=\"_parent\"><img src=\"https://colab.research.google.com/assets/colab-badge.svg\" alt=\"Open In Colab\"/></a>"
      ]
    },
    {
      "cell_type": "code",
      "execution_count": 24,
      "metadata": {
        "colab": {
          "base_uri": "https://localhost:8080/"
        },
        "id": "76VWX6VHInck",
        "outputId": "3a529437-9094-44ba-9f09-b330defe890c"
      },
      "outputs": [
        {
          "output_type": "stream",
          "name": "stdout",
          "text": [
            "Mounted at /content/gdrive\n",
            "The mean of the column answered is 0.5465947998237228\n"
          ]
        },
        {
          "output_type": "stream",
          "name": "stderr",
          "text": [
            "/usr/local/lib/python3.9/dist-packages/pandas/core/indexing.py:1817: SettingWithCopyWarning: \n",
            "A value is trying to be set on a copy of a slice from a DataFrame.\n",
            "Try using .loc[row_indexer,col_indexer] = value instead\n",
            "\n",
            "See the caveats in the documentation: https://pandas.pydata.org/pandas-docs/stable/user_guide/indexing.html#returning-a-view-versus-a-copy\n",
            "  self._setitem_single_column(loc, value, pi)\n"
          ]
        }
      ],
      "source": [
        "import pandas as pd\n",
        "import matplotlib as mpl\n",
        "import numpy as np\n",
        "\n",
        "from google.colab import drive \n",
        "drive.mount('/content/gdrive', force_remount=True)\n",
        "df = pd.read_csv (r'/content/gdrive/MyDrive/Colab Notebooks/adviseinvest.csv')\n",
        "\n",
        "# Remove rows with NAs.\n",
        "dropNAdf = df.dropna()\n",
        "# Remove the row with the single outlier in num_accts. Filter with a logical condition   \n",
        "dropNumAcc = dropNAdf[dropNAdf.num_accts <= 5] \n",
        "# Remove the rows with negative income values. Filter with a logical condition.\n",
        "dropNumIncome = dropNumAcc[dropNumAcc.income >= 0]\n",
        "\n",
        "#Code for the Job\n",
        "dropNumIncome.loc[dropNumIncome[\"job\"] == 0, \"job\"] = \"unemployed\"\n",
        "dropNumIncome.loc[dropNumIncome[\"job\"] == 1, \"job\"] = \"entry level position\"\n",
        "dropNumIncome.loc[dropNumIncome[\"job\"] == 2, \"job\"] = \"midlevel position\"\n",
        "dropNumIncome.loc[dropNumIncome[\"job\"] == 3, \"job\"] = \"management/ self-employed/ highly qualified employee/ officer\"\n",
        "\n",
        "#Code for Product\n",
        "dropNumIncome.loc[dropNumIncome[\"product\"] == 0, \"product\"] = \"customer did not answer call\"\n",
        "dropNumIncome.loc[dropNumIncome[\"product\"] == 1, \"product\"] = \"customer answered but did not purchase a product\"\n",
        "dropNumIncome.loc[dropNumIncome[\"product\"] == 2, \"product\"] = \"customer answered and purchased Beginner plan\"\n",
        "dropNumIncome.loc[dropNumIncome[\"product\"] == 3, \"product\"] = \"customer answered and purchased Intermediate plan\"\n",
        "dropNumIncome.loc[dropNumIncome[\"product\"] == 4, \"product\"] = \"customer answered and purchased Advanced plan\"\n",
        "\n",
        "#Code for Chk_Acct\n",
        "dropNumIncome.loc[dropNumIncome[\"chk_acct\"] == 0, \"chk_acct\"] = \"no checking account\"\n",
        "dropNumIncome.loc[dropNumIncome[\"chk_acct\"] == 1, \"chk_acct\"] = \"checking < 200 USD\"\n",
        "dropNumIncome.loc[dropNumIncome[\"chk_acct\"] == 2, \"chk_acct\"] = \"200 < checking < 2000 USD\"\n",
        "dropNumIncome.loc[dropNumIncome[\"chk_acct\"] == 3, \"chk_acct\"] = \"2000 < checking < 35000 USD\"\n",
        "dropNumIncome.loc[dropNumIncome[\"chk_acct\"] == 4, \"chk_acct\"] = \"checking >= 3500 USD\"\n",
        "\n",
        "#code for the Sav_acct\n",
        "dropNumIncome.loc[dropNumIncome[\"sav_acct\"] == 0, \"sav_acct\"] = \"no savings account\"\n",
        "dropNumIncome.loc[dropNumIncome[\"sav_acct\"] == 1, \"sav_acct\"] = \"100 <= savings < 500 USD\"\n",
        "dropNumIncome.loc[dropNumIncome[\"sav_acct\"] == 2, \"sav_acct\"] = \"500 <= savings < 2000 USD\"\n",
        "dropNumIncome.loc[dropNumIncome[\"sav_acct\"] == 3, \"sav_acct\"] = \"2000 < savings < 35000 USD\"\n",
        "dropNumIncome.loc[dropNumIncome[\"sav_acct\"] == 4, \"sav_acct\"] = \"savings >= 3500 USD\"\n",
        "\n",
        "print(f\"The mean of the column answered is {dropNumIncome['answered'].mean()}\")"
      ]
    },
    {
      "cell_type": "code",
      "source": [],
      "metadata": {
        "id": "CX7VWxfTJodv"
      },
      "execution_count": null,
      "outputs": []
    }
  ]
}